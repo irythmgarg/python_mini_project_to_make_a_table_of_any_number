{
  "nbformat": 4,
  "nbformat_minor": 0,
  "metadata": {
    "colab": {
      "provenance": [],
      "authorship_tag": "ABX9TyPJqoTUkIY4mMhCP3IR9raH",
      "include_colab_link": true
    },
    "kernelspec": {
      "name": "python3",
      "display_name": "Python 3"
    },
    "language_info": {
      "name": "python"
    }
  },
  "cells": [
    {
      "cell_type": "markdown",
      "metadata": {
        "id": "view-in-github",
        "colab_type": "text"
      },
      "source": [
        "<a href=\"https://colab.research.google.com/github/irythmgarg/python_mini_project_to_make_a_table_of_any_number/blob/main/multiplication_table_maker.ipynb\" target=\"_parent\"><img src=\"https://colab.research.google.com/assets/colab-badge.svg\" alt=\"Open In Colab\"/></a>"
      ]
    },
    {
      "cell_type": "code",
      "execution_count": 7,
      "metadata": {
        "colab": {
          "base_uri": "https://localhost:8080/"
        },
        "id": "ua7QxxmzZff_",
        "outputId": "e48fd63d-c033-4038-fad0-55816e9bbaa6"
      },
      "outputs": [
        {
          "output_type": "stream",
          "name": "stdout",
          "text": [
            "enter the number whose table you want to print5\n",
            "5  *  1  =  5\n",
            "5  *  2  =  10\n",
            "5  *  3  =  15\n",
            "5  *  4  =  20\n",
            "5  *  5  =  25\n",
            "5  *  6  =  30\n",
            "5  *  7  =  35\n",
            "5  *  8  =  40\n",
            "5  *  9  =  45\n",
            "5  * 10  =  50\n"
          ]
        }
      ],
      "source": [
        "# mini project to print multiplication table of a number in python\n",
        "i=int(input(\"enter the number whose table you want to print\")); #enter the number whose multiplication table do you want to print\n",
        "for j in range(1,11):\n",
        "    if(j==10):\n",
        "        print(i,\" *\",j,\" = \",i*j)\n",
        "    else:\n",
        "     print(i,\" * \",j,\" = \",i*j)"
      ]
    }
  ]
}